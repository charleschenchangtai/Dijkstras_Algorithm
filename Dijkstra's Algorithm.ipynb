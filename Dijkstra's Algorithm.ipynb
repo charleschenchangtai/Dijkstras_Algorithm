{
 "cells": [
  {
   "cell_type": "code",
   "execution_count": 3,
   "metadata": {},
   "outputs": [],
   "source": [
    "from numpy import inf"
   ]
  },
  {
   "cell_type": "code",
   "execution_count": 4,
   "metadata": {},
   "outputs": [
    {
     "data": {
      "text/html": [
       "<img src=\"Images/DijkstrasGraph.jpg\",width=60,height=60>\n",
       "#plot the whole graph via matrix\n",
       "#graph[nextNode][neighbor]\n",
       "graph = {'A': {'C': 5, 'D': 1, 'E': 2}, \n",
       "         'B': {'H': 1, 'G': 3}, \n",
       "         'C': {'I': 2, 'D': 3, 'A': 5},\n",
       "         'D': {'C': 3, 'A': 1, 'H': 2}, \n",
       "         'E': {'A': 2, 'F': 3},\n",
       "         'F': {'E': 3, 'G': 1}, \n",
       "         'G': {'F': 1, 'B': 3, 'H': 2}, \n",
       "         'H': {'I': 2, 'D': 2, 'B': 1, 'G': 2},\n",
       "         'I': {'C': 2, 'H': 2}}\n"
      ],
      "text/plain": [
       "<IPython.core.display.HTML object>"
      ]
     },
     "metadata": {},
     "output_type": "display_data"
    }
   ],
   "source": [
    "%%html\n",
    "<img src=\"Images/DijkstrasGraph.jpg\",width=60,height=60>\n",
    "#plot the whole graph via matrix\n",
    "#graph[nextNode][neighbor]\n",
    "graph = {'A': {'C': 5, 'D': 1, 'E': 2}, \n",
    "         'B': {'H': 1, 'G': 3}, \n",
    "         'C': {'I': 2, 'D': 3, 'A': 5},\n",
    "         'D': {'C': 3, 'A': 1, 'H': 2}, \n",
    "         'E': {'A': 2, 'F': 3},\n",
    "         'F': {'E': 3, 'G': 1}, \n",
    "         'G': {'F': 1, 'B': 3, 'H': 2}, \n",
    "         'H': {'I': 2, 'D': 2, 'B': 1, 'G': 2},\n",
    "         'I': {'C': 2, 'H': 2}}"
   ]
  },
  {
   "cell_type": "code",
   "execution_count": 5,
   "metadata": {},
   "outputs": [],
   "source": [
    "#Initialization, the costs of each node specified to inf\n",
    "costs = {'A': 0, 'B': inf, 'C': inf, 'D': inf, 'E': inf, 'F': inf, 'G': inf, 'H': inf, 'I': inf}\n",
    "parents = {}"
   ]
  },
  {
   "cell_type": "markdown",
   "metadata": {},
   "source": [
    "# Now start to compulate"
   ]
  },
  {
   "cell_type": "code",
   "execution_count": 6,
   "metadata": {},
   "outputs": [],
   "source": [
    "def search(source, target, graph, costs, parents):\n",
    "    #set 'nextNode' variable points to 'source' start point\n",
    "    nextNode = source\n",
    "\n",
    "    #when the variable has not attain to the target\n",
    "    while nextNode != target:\n",
    "        #for each neighbor point of 'nextNode'\n",
    "        for neighbor in graph[nextNode]:\n",
    "            #graph['nextNode'][neighbor]+costs['nextNode'] < costs['neighbor'] \n",
    "            if graph[nextNode][neighbor] + costs[nextNode] < costs[neighbor]:\n",
    "                #Updating the value of costs[neighbor] with graph['nextNode'][neighbor]\n",
    "                costs[neighbor] = graph[nextNode][neighbor] + costs[nextNode]\n",
    "                #Specifing the current 'nextNode as one node in parents array for next iteration\n",
    "                parents[neighbor] = nextNode\n",
    "            #delete graph[neighbor][nextNode], which means delete reverse orientation from this current 'nextNode'\n",
    "            del graph[neighbor][nextNode]\n",
    "        #delete 'nextNode' in costs[], which means this node has not been candidate, been specified parent node already\n",
    "        del costs[nextNode]\n",
    "        #Determine the shortest path for choosing next Node, then forward to next Node\n",
    "        nextNode = min(costs, key=costs.get) # syntax: min(a,b,c,...[, key=func])-> value\n",
    "    return parents"
   ]
  },
  {
   "cell_type": "code",
   "execution_count": 7,
   "metadata": {},
   "outputs": [],
   "source": [
    "def backpedal(source, target, searchResult):\n",
    "    \n",
    "    node = target\n",
    "    \n",
    "    backpath = [target]\n",
    "    #Make a list of return path\n",
    "    path = []\n",
    "    \n",
    "    while node != source:\n",
    "        \n",
    "        backpath.append(searchResult[node])\n",
    "        \n",
    "        node = searchResult[node]\n",
    "        \n",
    "    for i in range(len(backpath)):\n",
    "        \n",
    "        path.append(backpath[-i - 1])\n",
    "        \n",
    "    return path"
   ]
  },
  {
   "cell_type": "code",
   "execution_count": 8,
   "metadata": {},
   "outputs": [
    {
     "name": "stdout",
     "output_type": "stream",
     "text": [
      "Enter the START point: a\n",
      "Enter the DESTINATION point: b\n"
     ]
    },
    {
     "ename": "NameError",
     "evalue": "name 'graph' is not defined",
     "output_type": "error",
     "traceback": [
      "\u001b[0;31m---------------------------------------------------------------------------\u001b[0m",
      "\u001b[0;31mNameError\u001b[0m                                 Traceback (most recent call last)",
      "\u001b[0;32m<ipython-input-8-c964cbb62c9c>\u001b[0m in \u001b[0;36m<module>\u001b[0;34m\u001b[0m\n\u001b[1;32m      3\u001b[0m \u001b[0mInput1\u001b[0m \u001b[0;34m=\u001b[0m \u001b[0minput1\u001b[0m\u001b[0;34m.\u001b[0m\u001b[0mupper\u001b[0m\u001b[0;34m(\u001b[0m\u001b[0;34m)\u001b[0m\u001b[0;34m\u001b[0m\u001b[0;34m\u001b[0m\u001b[0m\n\u001b[1;32m      4\u001b[0m \u001b[0mInput2\u001b[0m \u001b[0;34m=\u001b[0m \u001b[0minput2\u001b[0m\u001b[0;34m.\u001b[0m\u001b[0mupper\u001b[0m\u001b[0;34m(\u001b[0m\u001b[0;34m)\u001b[0m\u001b[0;34m\u001b[0m\u001b[0;34m\u001b[0m\u001b[0m\n\u001b[0;32m----> 5\u001b[0;31m \u001b[0mresult\u001b[0m \u001b[0;34m=\u001b[0m \u001b[0msearch\u001b[0m\u001b[0;34m(\u001b[0m\u001b[0mInput1\u001b[0m\u001b[0;34m,\u001b[0m \u001b[0mInput2\u001b[0m\u001b[0;34m,\u001b[0m \u001b[0mgraph\u001b[0m\u001b[0;34m,\u001b[0m \u001b[0mcosts\u001b[0m\u001b[0;34m,\u001b[0m \u001b[0mparents\u001b[0m\u001b[0;34m)\u001b[0m\u001b[0;34m\u001b[0m\u001b[0;34m\u001b[0m\u001b[0m\n\u001b[0m\u001b[1;32m      6\u001b[0m \u001b[0mprint\u001b[0m\u001b[0;34m(\u001b[0m\u001b[0;34m'parent dictionary={}'\u001b[0m\u001b[0;34m.\u001b[0m\u001b[0mformat\u001b[0m\u001b[0;34m(\u001b[0m\u001b[0mresult\u001b[0m\u001b[0;34m)\u001b[0m\u001b[0;34m)\u001b[0m\u001b[0;34m\u001b[0m\u001b[0;34m\u001b[0m\u001b[0m\n\u001b[1;32m      7\u001b[0m \u001b[0mprint\u001b[0m\u001b[0;34m(\u001b[0m\u001b[0;34m'longest path={}'\u001b[0m\u001b[0;34m.\u001b[0m\u001b[0mformat\u001b[0m\u001b[0;34m(\u001b[0m\u001b[0mbackpedal\u001b[0m\u001b[0;34m(\u001b[0m\u001b[0mInput1\u001b[0m\u001b[0;34m,\u001b[0m \u001b[0mInput2\u001b[0m\u001b[0;34m,\u001b[0m \u001b[0mresult\u001b[0m\u001b[0;34m)\u001b[0m\u001b[0;34m)\u001b[0m\u001b[0;34m)\u001b[0m\u001b[0;34m\u001b[0m\u001b[0;34m\u001b[0m\u001b[0m\n",
      "\u001b[0;31mNameError\u001b[0m: name 'graph' is not defined"
     ]
    }
   ],
   "source": [
    "input1 = input(\"Enter the START point: \")\n",
    "input2 = input(\"Enter the DESTINATION point: \")\n",
    "Input1 = input1.upper()\n",
    "Input2 = input2.upper()\n",
    "result = search(Input1, Input2, graph, costs, parents)\n",
    "print('parent dictionary={}'.format(result))\n",
    "print('longest path={}'.format(backpedal(Input1, Input2, result)))"
   ]
  },
  {
   "cell_type": "code",
   "execution_count": 3,
   "metadata": {},
   "outputs": [
    {
     "name": "stdout",
     "output_type": "stream",
     "text": [
      "Enter the START point: a\n",
      "Enter the DESTINATION point: b\n",
      "parent dictionary={'C': 'D', 'D': 'A', 'E': 'A', 'H': 'D', 'F': 'E', 'I': 'H', 'B': 'H', 'G': 'H'}\n"
     ]
    },
    {
     "ename": "NameError",
     "evalue": "name 'backpedal' is not defined",
     "output_type": "error",
     "traceback": [
      "\u001b[0;31m---------------------------------------------------------------------------\u001b[0m",
      "\u001b[0;31mNameError\u001b[0m                                 Traceback (most recent call last)",
      "\u001b[0;32m<ipython-input-3-d444fc092608>\u001b[0m in \u001b[0;36m<module>\u001b[0;34m\u001b[0m\n\u001b[1;32m     42\u001b[0m \u001b[0mresult\u001b[0m \u001b[0;34m=\u001b[0m \u001b[0msearch\u001b[0m\u001b[0;34m(\u001b[0m\u001b[0mInput1\u001b[0m\u001b[0;34m,\u001b[0m \u001b[0mInput2\u001b[0m\u001b[0;34m,\u001b[0m \u001b[0mgraph\u001b[0m\u001b[0;34m,\u001b[0m \u001b[0mcosts\u001b[0m\u001b[0;34m,\u001b[0m \u001b[0mparents\u001b[0m\u001b[0;34m)\u001b[0m\u001b[0;34m\u001b[0m\u001b[0;34m\u001b[0m\u001b[0m\n\u001b[1;32m     43\u001b[0m \u001b[0mprint\u001b[0m\u001b[0;34m(\u001b[0m\u001b[0;34m'parent dictionary={}'\u001b[0m\u001b[0;34m.\u001b[0m\u001b[0mformat\u001b[0m\u001b[0;34m(\u001b[0m\u001b[0mresult\u001b[0m\u001b[0;34m)\u001b[0m\u001b[0;34m)\u001b[0m\u001b[0;34m\u001b[0m\u001b[0;34m\u001b[0m\u001b[0m\n\u001b[0;32m---> 44\u001b[0;31m \u001b[0mprint\u001b[0m\u001b[0;34m(\u001b[0m\u001b[0;34m'longest path={}'\u001b[0m\u001b[0;34m.\u001b[0m\u001b[0mformat\u001b[0m\u001b[0;34m(\u001b[0m\u001b[0mbackpedal\u001b[0m\u001b[0;34m(\u001b[0m\u001b[0mInput1\u001b[0m\u001b[0;34m,\u001b[0m \u001b[0mInput2\u001b[0m\u001b[0;34m,\u001b[0m \u001b[0mresult\u001b[0m\u001b[0;34m)\u001b[0m\u001b[0;34m)\u001b[0m\u001b[0;34m)\u001b[0m\u001b[0;34m\u001b[0m\u001b[0;34m\u001b[0m\u001b[0m\n\u001b[0m",
      "\u001b[0;31mNameError\u001b[0m: name 'backpedal' is not defined"
     ]
    }
   ],
   "source": [
    "from numpy import inf\n",
    "\n",
    "#plot the whole graph via matrix\n",
    "#graph[nextNode][neighbor]\n",
    "graph = {'A': {'C': 5, 'D': 1, 'E': 2}, \n",
    "         'B': {'H': 1, 'G': 3}, \n",
    "         'C': {'I': 2, 'D': 3, 'A': 5},\n",
    "         'D': {'C': 3, 'A': 1, 'H': 2}, \n",
    "         'E': {'A': 2, 'F': 3},\n",
    "         'F': {'E': 3, 'G': 1}, \n",
    "         'G': {'F': 1, 'B': 3, 'H': 2}, \n",
    "         'H': {'I': 2, 'D': 2, 'B': 1, 'G': 2},\n",
    "         'I': {'C': 2, 'H': 2}}\n",
    "#Initialization, the costs of each node specified to inf\n",
    "costs = {'A': 0, 'B': inf, 'C': inf, 'D': inf, 'E': inf, 'F': inf, 'G': inf, 'H': inf, 'I': inf}\n",
    "parents = {}\n",
    "def search(source, target, graph, costs, parents):\n",
    "    #set 'nextNode' variable points to 'source' start point\n",
    "    nextNode = source\n",
    "\n",
    "    #when the variable has not attain to the target\n",
    "    while nextNode != target:\n",
    "        #for each neighbor point of 'nextNode'\n",
    "        for neighbor in graph[nextNode]:\n",
    "            #graph['nextNode'][neighbor]+costs['nextNode'] < costs['neighbor'] \n",
    "            if graph[nextNode][neighbor] + costs[nextNode] < costs[neighbor]:\n",
    "                #Updating the value of costs[neighbor] with graph['nextNode'][neighbor]\n",
    "                costs[neighbor] = graph[nextNode][neighbor] + costs[nextNode]\n",
    "                #Specifing the current 'nextNode as one node in parents array for next iteration\n",
    "                parents[neighbor] = nextNode\n",
    "            #delete graph[neighbor][nextNode], which means delete reverse orientation from this current 'nextNode'\n",
    "            del graph[neighbor][nextNode]\n",
    "        #delete 'nextNode' in costs[], which means this node has not been candidate, been specified parent node already\n",
    "        del costs[nextNode]\n",
    "        #Determine the shortest path for choosing next Node, then forward to next Node\n",
    "        nextNode = min(costs, key=costs.get) # syntax: min(a,b,c,...[, key=func])-> value\n",
    "    return parents\n",
    "input1 = input(\"Enter the START point: \")\n",
    "input2 = input(\"Enter the DESTINATION point: \")\n",
    "Input1 = input1.upper()\n",
    "Input2 = input2.upper()\n",
    "result = search(Input1, Input2, graph, costs, parents)\n",
    "print('parent dictionary={}'.format(result))\n",
    "print('longest path={}'.format(backpedal(Input1, Input2, result)))"
   ]
  },
  {
   "cell_type": "code",
   "execution_count": null,
   "metadata": {},
   "outputs": [],
   "source": []
  }
 ],
 "metadata": {
  "kernelspec": {
   "display_name": "Python 3",
   "language": "python",
   "name": "python3"
  },
  "language_info": {
   "codemirror_mode": {
    "name": "ipython",
    "version": 3
   },
   "file_extension": ".py",
   "mimetype": "text/x-python",
   "name": "python",
   "nbconvert_exporter": "python",
   "pygments_lexer": "ipython3",
   "version": "3.8.5"
  }
 },
 "nbformat": 4,
 "nbformat_minor": 4
}
