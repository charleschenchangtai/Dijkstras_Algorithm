{
 "cells": [
  {
   "cell_type": "code",
   "execution_count": 1,
   "metadata": {},
   "outputs": [
    {
     "name": "stdout",
     "output_type": "stream",
     "text": [
      "3\n"
     ]
    }
   ],
   "source": [
    "from numpy import inf\n",
    "\n",
    "graph = {'A':{'E':3,'C':2,'D':1,'H':2},\n",
    "         'B':{'F':1,'G':2},\n",
    "         'C':{'A':2,'D':1,'F':2,'G':1},\n",
    "         'D':{'A':1,'C':1,'F':1,'H':2},\n",
    "         'E':{'A':3,'G':1},\n",
    "         'F':{'H':3,'D':1,'C':2,'G':3,'B':1},\n",
    "         'G':{'E':1,'C':1,'F':3,'B':2},\n",
    "         'H':{'A':2,'D':2,'F':3}\n",
    "        }\n",
    "#Initialization, the costs of each node specified to INF at first\n",
    "costs = {'A': 0, 'B': inf, 'C': inf, 'D': inf, 'E': inf, 'F': inf, 'G': inf,'H':inf}\n",
    "\n",
    "parents = {}\n",
    "print(graph['A']['E']) # Verifying the code"
   ]
  },
  {
   "cell_type": "code",
   "execution_count": 2,
   "metadata": {},
   "outputs": [
    {
     "data": {
      "text/html": [
       "<img src=\"Images/Dijkstra.jpg\",width=60,height=60>\n"
      ],
      "text/plain": [
       "<IPython.core.display.HTML object>"
      ]
     },
     "metadata": {},
     "output_type": "display_data"
    }
   ],
   "source": [
    "%%html\n",
    "<img src=\"Images/Dijkstra.jpg\",width=60,height=60>"
   ]
  },
  {
   "cell_type": "code",
   "execution_count": 3,
   "metadata": {},
   "outputs": [],
   "source": [
    "#The method of searching each node's parent\n",
    "def search(source, target, graph, costs, parents): \n",
    "    #set 'nextNode' variable points to 'source' start point\n",
    "    nextNode = source\n",
    "    \n",
    "    #When the variable has not attain to the target\n",
    "    while nextNode != target:\n",
    "        #For each neighbor point of 'nextNode'\n",
    "        for neighbor in graph[nextNode]:\n",
    "            \n",
    "            #graph['nextNode'][neighbor]+costs['nextNode'] < costs['neighbor']\n",
    "            if graph[nextNode][neighbor] + costs[nextNode] < costs[neighbor]:\n",
    "                \n",
    "                #Updating the value of costs[neighbor] with graph['nextNode'][neighbor]\n",
    "                costs[neighbor] = graph[nextNode][neighbor] + costs[nextNode]\n",
    "                \n",
    "                #Specifing the current 'nextNode' as neighbor node's parent node, then put into parents array\n",
    "                parents[neighbor] = nextNode\n",
    "            \n",
    "            #Delete graph[neighbor][nextNode], which means delete reverse orientation from this current 'nextNode'    \n",
    "            del graph[neighbor][nextNode]\n",
    "        \n",
    "        #Delete 'nextNode' in cost[], which means this node has not been candidate, been specified parent node already.\n",
    "        del costs[nextNode]\n",
    "        \n",
    "        #Determine the shortest path for choosing next Node, then forward to next Node\n",
    "        nextNode = min(costs, key=costs.get) # Syntax: min(a,b,c...[, key=func]) -> value\n",
    "        \n",
    "    return parents\n",
    "\n",
    "\n",
    "\n",
    "def reversepath(source, target, searchResult):\n",
    "    \n",
    "    node = target\n",
    "    \n",
    "    backpath = [target]\n",
    "    #Prepare a list for return path\n",
    "    path = []\n",
    "    \n",
    "    while node != source:\n",
    "        #Put every node's parent into backpath list\n",
    "        backpath.append(searchResult[node])\n",
    "        #Updating current node as former's parent (orientation: from 'destination' to 'start') for iteration\n",
    "        node = searchResult[node]\n",
    "        \n",
    "    for i in range(len(backpath)):\n",
    "        #Make an order\n",
    "        path.append(backpath[-i - 1])\n",
    "        \n",
    "    return path"
   ]
  },
  {
   "cell_type": "code",
   "execution_count": 4,
   "metadata": {},
   "outputs": [
    {
     "name": "stdout",
     "output_type": "stream",
     "text": [
      "Enter the START node: a\n",
      "Enter the END node: b\n",
      "Parent dictionary: {'E': 'A', 'C': 'A', 'D': 'A', 'H': 'A', 'F': 'D', 'G': 'C', 'B': 'F'}\n",
      "The shortest path is: ['A', 'D', 'F', 'B']\n"
     ]
    }
   ],
   "source": [
    "input1 = input(\"Enter the START node: \")\n",
    "Input1 = input1.upper()\n",
    "input2 = input(\"Enter the END node: \")\n",
    "Input2 = input2.upper()\n",
    "result = search(Input1, Input2, graph, costs, parents)\n",
    "print('Parent dictionary: {}'.format(result))\n",
    "print('The shortest path is: {}'.format(reversepath(Input1, Input2, result)))"
   ]
  },
  {
   "cell_type": "code",
   "execution_count": null,
   "metadata": {},
   "outputs": [],
   "source": []
  }
 ],
 "metadata": {
  "kernelspec": {
   "display_name": "Python 3",
   "language": "python",
   "name": "python3"
  },
  "language_info": {
   "codemirror_mode": {
    "name": "ipython",
    "version": 3
   },
   "file_extension": ".py",
   "mimetype": "text/x-python",
   "name": "python",
   "nbconvert_exporter": "python",
   "pygments_lexer": "ipython3",
   "version": "3.8.5"
  }
 },
 "nbformat": 4,
 "nbformat_minor": 4
}
